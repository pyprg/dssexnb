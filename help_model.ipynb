{
 "cells": [
  {
   "cell_type": "markdown",
   "id": "7cf6a6d3-3b14-4529-832d-1ba392e4c68c",
   "metadata": {
    "editable": true,
    "slideshow": {
     "slide_type": ""
    },
    "tags": []
   },
   "source": [
    "# Model\n",
    "The model is made from a multiline text string. The string has a pseudo graphic part and a footer part.\n",
    "\n",
    "For example:\n",
    "\n",
    "```\n",
    "slack ---------------Branch-------------- n ------------- heating\n",
    "        Tlink=tap     y_lo=1k-1kj         |                P10=200\n",
    "                      y_tr=1µ+1µj         |\n",
    "                                          |\n",
    "                         cap ------------ n ------------- motor\n",
    "                          Q10=-10                          P10=160\n",
    "                          Exp_v_q=2                        Q10=10\n",
    "\n",
    "#.Deft(id=tap type=var min=-16 max=16 value=0 is_discrete=True cost=.03)\n",
    "#.Defk(id=kcap type=var min=0 max=5 value=0 is_discrete=True cost=.05)\n",
    "#.Klink(id_of_injection=cap id_of_factor=kcap part=q)\n",
    "#.Vlimit(min=.95)\n",
    "```\n",
    "\n",
    "Pseudographic rules:\n",
    "\n",
    "- entities in the multiline text are connectivity nodes (including slack nodes), branches, and injections\n",
    "- IDs are sequences of word characters (including numbers and underscore)\n",
    "- IDs starting wit \"n\" are IDs of connectivity **nodes**\n",
    "- IDs starting wit \"slack\" are slack nodes\n",
    "- **branch** IDs are entities between two nodes\n",
    "- **injection** IDs are adjacent to one connectivity node only\n",
    "- text lines are \n",
    "    - entity lines, left most entity is a node or branch/injection ID, e.g. `n0`\n",
    "    - attribute lines, left most detected pattern is an attribute e.g. `P=10` or `Vlimit.min=.98`\n",
    "    - footer, starts with '#.', can also be a header or in the middle\n",
    "    - comments, first character is '#' (hash), second is not '.' (dot)\n",
    "    - blank lines, lines having no other type, they may have characters but are of not any type listed above\n",
    "- leading/trailing underscore characters are not part of IDs\n",
    "- underscores before/after IDs indicate that the entity is not connected to the entity left/right, this is useful for placing injections in one entity line\n",
    "- attributes names are sequences of word characters (including numbers and underscore), attribute names are followed by an equal sign \"=\"\n",
    "- attribute values follow the equal sign, attribute values must be quoted if they contain space characters\n",
    "- attribute lines are associated to text lines which they follow or preceed without blank lines\n",
    "- blank lines separate entity lines (with their preceeding or following attribute lines)\n",
    "- other characters including space have no meaning and can be used to create a pseudo graphic\n",
    "- attributes are associated to nodes/branches/injections whose IDs sharing the same column like the first character of the attribute name\n",
    "- names of attributes associated to terminals do not share their first column with any entity\n",
    "- attribute-value pairs separated by exactly one space or one comma belong to the same entity e.g. \"P10=160,Q10=10\"\n",
    "\n",
    "The pseudographic displayed above creates the same model like this string:\n",
    "```\n",
    "slack Branch n\n",
    "      y_lo=1k-1kj\n",
    "      y_tr=1µ+1µj\n",
    "\n",
    "heating n\n",
    "P10=200\n",
    "\n",
    "cap n\n",
    "Q10=-10\n",
    "Exp_v_q=2\n",
    "\n",
    "motor n\n",
    "P10=160\n",
    "Q10=10\n",
    "\n",
    "#.Tlink(id_of_node=slack id_of_branch=Branch id_of_factor=tap)\n",
    "#.Deft(id=tap type=var min=-16 max=16 value=0 is_discrete=True cost=.03)\n",
    "#.Defk(id=kcap type=var min=0 max=5 value=0 is_discrete=True cost=.05)\n",
    "#.Klink(id_of_injection=cap id_of_factor=kcap part=q)\n",
    "#.Vlimit(min=.95)\n",
    "```"
   ]
  }
 ],
 "metadata": {
  "kernelspec": {
   "display_name": "Python 3 (ipykernel)",
   "language": "python",
   "name": "python3"
  },
  "language_info": {
   "codemirror_mode": {
    "name": "ipython",
    "version": 3
   },
   "file_extension": ".py",
   "mimetype": "text/x-python",
   "name": "python",
   "nbconvert_exporter": "python",
   "pygments_lexer": "ipython3",
   "version": "3.10.11"
  }
 },
 "nbformat": 4,
 "nbformat_minor": 5
}
