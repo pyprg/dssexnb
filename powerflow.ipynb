{
 "cells": [
  {
   "cell_type": "markdown",
   "id": "bb34a689-1683-4f0f-88e9-b1dbdd44ae7f",
   "metadata": {},
   "source": [
    "For installation of **DSSEX** please follow [installation instructions](./readme.ipynb#Install-DSSEX).\n",
    "\n",
    "Alternatively you can run ```%pip install dssex``` in a cell."
   ]
  },
  {
   "cell_type": "code",
   "execution_count": null,
   "id": "68258b91-e25b-4bd8-9c04-f67ca9d84f36",
   "metadata": {
    "editable": true,
    "jupyter": {
     "source_hidden": true
    },
    "slideshow": {
     "slide_type": ""
    },
    "tags": []
   },
   "outputs": [],
   "source": [
    "import dssex\n",
    "from egrid import create_objects, make_data_frames, check_frames, model_from_frames\n",
    "import pandas as pd\n",
    "pd.set_option('display.max_colwidth', None)\n",
    "\n",
    "def print_frames(frames):\n",
    "    \"\"\"Prints pandas.DataFrame instances stored in a dict\"\"\"\n",
    "    messages = frames.get('Message')\n",
    "    if messages is not None:\n",
    "        is_error = 1 < messages.level\n",
    "        errors = messages.loc[is_error].message\n",
    "        if not errors.empty:\n",
    "            print('Errors\\n')\n",
    "            for _, error in errors.items():\n",
    "                print()\n",
    "                print(error)\n",
    "            print()\n",
    "    for key,df in frames.items():\n",
    "        print()\n",
    "        print(key)\n",
    "        display(df)\n",
    "        \n",
    "def print_results(res):\n",
    "    \"\"\"Prints values returned from function dssex.estimate\"\"\"\n",
    "    messages, vals = res\n",
    "    if not messages.empty:\n",
    "        print('\\n\\n')\n",
    "        print('Messages')\n",
    "        display(messages)\n",
    "    last_index = len(vals) - 2\n",
    "    for idx, df in enumerate(vals, -1):\n",
    "        print('\\n\\n')\n",
    "        print(f'{\"RESULT >> \" if idx==last_index else \"\"}Optimization Step: {idx}')\n",
    "        for name in ['nodes', 'branches', 'injections']:\n",
    "            print()\n",
    "            print(name.title())\n",
    "            display(df[name])    "
   ]
  },
  {
   "attachments": {},
   "cell_type": "markdown",
   "id": "9a947e3a-5413-455b-9f23-b72c57b403c7",
   "metadata": {
    "editable": true,
    "slideshow": {
     "slide_type": ""
    },
    "tags": []
   },
   "source": [
    "# Power Flow Calculation\n",
    "## Model\n",
    "### Create\n",
    "\n",
    "Add equipment and connectivity nodes:\n",
    "- IDs of nodes start with **n**, IDs of slack nodes with **slack**\n",
    "- IDs of nodes are left and right of branches and only at one side of injections\n",
    "\n",
    "[Elements of Model](./help_elements.ipynb)"
   ]
  },
  {
   "cell_type": "code",
   "execution_count": null,
   "id": "307b2bc4-9e94-4bbd-ab6b-64e8dbead3fb",
   "metadata": {
    "editable": true,
    "scrolled": true,
    "slideshow": {
     "slide_type": ""
    },
    "tags": []
   },
   "outputs": [],
   "source": [
    "schema00 = \"\"\"\n",
    "slack line_slack_00  n00\n",
    "      y_lo=1k-1kj\n",
    "      y_tr=1µ+1µj\n",
    "\n",
    "n00 line_00_01 n01                              \n",
    "    y_lo=2k-2kj\n",
    "    y_tr=2µ+2µj\n",
    "     \n",
    "load00_0 n00\n",
    "P10=12 Q10=7\n",
    "Exp_v_p=1 Exp_v_q=1\n",
    "\n",
    "cap00_1 n00\n",
    "Q10=-3\n",
    "Exp_v_q=2\n",
    "\n",
    "load01_0 n01\n",
    "P10=42\n",
    "Q10=27\n",
    "\"\"\"\n",
    "frames00 = make_data_frames(create_objects(schema00))\n",
    "print_frames(frames00)"
   ]
  },
  {
   "cell_type": "markdown",
   "id": "0d5eea1d-da48-42ba-ae42-0fb6eecaa7c3",
   "metadata": {},
   "source": [
    "### Check"
   ]
  },
  {
   "cell_type": "code",
   "execution_count": null,
   "id": "5652d019-2045-4af6-bc31-8ef9658c1cf8",
   "metadata": {
    "editable": true,
    "slideshow": {
     "slide_type": ""
    },
    "tags": []
   },
   "outputs": [],
   "source": [
    "pd.DataFrame.from_records(check_frames(frames00), columns=['message','level'])"
   ]
  },
  {
   "cell_type": "markdown",
   "id": "53359f7d-22a3-4cec-8b9f-b0e294901bd0",
   "metadata": {
    "editable": true,
    "slideshow": {
     "slide_type": ""
    },
    "tags": []
   },
   "source": [
    "### Calculate Power Flow"
   ]
  },
  {
   "cell_type": "code",
   "execution_count": null,
   "id": "d1db8048-e05d-4a8e-9adb-ac2dafd9bd0f",
   "metadata": {
    "editable": true,
    "scrolled": true,
    "slideshow": {
     "slide_type": ""
    },
    "tags": []
   },
   "outputs": [],
   "source": [
    "model00 = model_from_frames(frames00)\n",
    "results00 = dssex.estimate(model00)"
   ]
  },
  {
   "cell_type": "code",
   "execution_count": null,
   "id": "81f9f78b-730b-4686-a8e5-d639648ccd07",
   "metadata": {
    "editable": true,
    "scrolled": true,
    "slideshow": {
     "slide_type": ""
    },
    "tags": []
   },
   "outputs": [],
   "source": [
    "print_results(results00)"
   ]
  },
  {
   "attachments": {},
   "cell_type": "markdown",
   "id": "8dc34aa4-b957-4b4a-96a0-7325a3e270b6",
   "metadata": {
    "editable": true,
    "slideshow": {
     "slide_type": ""
    },
    "tags": []
   },
   "source": [
    "## Model2\n",
    "Data augmented with pseudo graphic (same model as above).\n",
    "Characters **)(-<>|** are ignored. "
   ]
  },
  {
   "cell_type": "code",
   "execution_count": null,
   "id": "0ecb262c-a355-48a0-95c5-6fd82c418ae3",
   "metadata": {
    "editable": true,
    "scrolled": true,
    "slideshow": {
     "slide_type": ""
    },
    "tags": []
   },
   "outputs": [],
   "source": [
    "schema01 = \"\"\"\n",
    "slack)-------line_slack_00--(n00)--------line_00_01-------(n01)\n",
    "              y_lo=1k-1kj     |           y_lo=2k-2kj       |\n",
    "              y_tr=1µ+1µj     |           y_tr=2µ+2µj       |\n",
    "                              |                             |\n",
    "# this line is a comment:     |  at least one blank line    |  no blank line between\n",
    "# cap00_1 has a trailing      |  is required between lines  |  lines defining elements\n",
    "# underscore in order to      |  defining branches,         |  and lines adding\n",
    "# avoid a connection to n01   |  injections and nodes       |  attributes\n",
    "                              |                             |\n",
    "          _load00_0 <-------(n00)--|| cap00_1_            (n01)--> load01_0_\n",
    "              P10=12 Q10=7             Q10=-3                       P10=42\n",
    "              Exp_v_p=1                Exp_v_q=2                    Q10=27\n",
    "              Exp_v_q=1\n",
    "\"\"\"\n",
    "frames01 = make_data_frames(create_objects(schema01))\n",
    "print_frames(frames01)"
   ]
  },
  {
   "cell_type": "code",
   "execution_count": null,
   "id": "ce1c5e1b-82f1-44af-a7cc-4195398c7b5a",
   "metadata": {
    "editable": true,
    "scrolled": true,
    "slideshow": {
     "slide_type": ""
    },
    "tags": []
   },
   "outputs": [],
   "source": [
    "model01 = model_from_frames(frames01)\n",
    "results01 = dssex.estimate(model01)"
   ]
  },
  {
   "cell_type": "code",
   "execution_count": null,
   "id": "037c62b0-6aff-4f6e-90c0-51d70ad07402",
   "metadata": {
    "editable": true,
    "slideshow": {
     "slide_type": ""
    },
    "tags": []
   },
   "outputs": [],
   "source": [
    "print_results(results01)"
   ]
  },
  {
   "cell_type": "markdown",
   "id": "9ef0bad2-0386-4370-a3be-7b2268645442",
   "metadata": {},
   "source": [
    "## Transformer Taps, Shunt Capacitor Steps"
   ]
  },
  {
   "cell_type": "code",
   "execution_count": null,
   "id": "a654d55e-ca45-4f22-bbc2-95b20a6fcef3",
   "metadata": {
    "scrolled": true
   },
   "outputs": [],
   "source": [
    "schema03 = \"\"\"\n",
    "      Tlink=taps\n",
    "slack)-----------transformer_slack_00--(n00)--------line_00_01-------(n01)\n",
    "                  y_lo=10k-10kj          |           y_lo=2k-2kj       |\n",
    "                  y_tr=1µ+8µj            |           y_tr=2µ+2µj       |\n",
    "                                         |                             |\n",
    "                     _load00_0 <-------(n00)--|| cap00_1_            (n01)--> load01_0_\n",
    "                       P10=12 Q10=7               Q10=-3                       P10=42\n",
    "                       Exp_v_p=1                  Exp_v_q=2                    Q10=27\n",
    "                       Exp_v_q=1\n",
    "\n",
    "# line '#.' switches from pseudo graphic mode to footer mode used for input of additional objects\n",
    "#.\n",
    "\n",
    "# create tap-factor 'taps', 'taps' is associated to terminal 'slack - transformer_slack_00' by Tlink in pseudo graphic part\n",
    "# 'taps' models a tap-changer\n",
    "Deft(id=taps min=-9 max=9 value=-5)\n",
    "\n",
    "# create scaling factor 'kq_cap', 'kq_cap' models steps of cap00_1\n",
    "Defk(id=kq_cap min=0 max=3 value=2)\n",
    "\n",
    "# associate scaling factor 'kq_cap' to reactive power Q of cap00_1\n",
    "Klink(id_of_injection=cap00_1 id_of_factor=kq_cap part=q)\n",
    "\"\"\"\n",
    "frames03 = make_data_frames(create_objects(schema03))\n",
    "print_frames(frames03)"
   ]
  },
  {
   "cell_type": "code",
   "execution_count": null,
   "id": "cc260fa2-68cf-4a56-93e1-57cf742e4fbf",
   "metadata": {},
   "outputs": [],
   "source": [
    "pd.DataFrame.from_records(check_frames(frames03), columns=['message','level'])"
   ]
  },
  {
   "cell_type": "code",
   "execution_count": null,
   "id": "d8c95241-cb00-4a8a-b181-e1a00b872941",
   "metadata": {
    "editable": true,
    "scrolled": true,
    "slideshow": {
     "slide_type": ""
    },
    "tags": []
   },
   "outputs": [],
   "source": [
    "model03 = model_from_frames(frames03)\n",
    "results03 = dssex.estimate(model03)"
   ]
  },
  {
   "cell_type": "code",
   "execution_count": null,
   "id": "9486a70a-5a4c-49a9-814f-3ed382192e53",
   "metadata": {
    "editable": true,
    "jupyter": {
     "source_hidden": true
    },
    "scrolled": true,
    "slideshow": {
     "slide_type": ""
    },
    "tags": []
   },
   "outputs": [],
   "source": [
    "print_results(results03)"
   ]
  },
  {
   "cell_type": "markdown",
   "id": "b1e0cd36-7584-497e-8628-90d5c8e45211",
   "metadata": {},
   "source": [
    "## Calculate Power Flow with PV-Generator\n",
    "Scale reactive power in order to meet magnitude of voltage-setpoint."
   ]
  },
  {
   "cell_type": "code",
   "execution_count": null,
   "id": "dfaa87e7-0f6a-4e77-9844-139d6cf3319e",
   "metadata": {
    "scrolled": true
   },
   "outputs": [],
   "source": [
    "schema04 = \"\"\"\n",
    "                                                                       V=.995\n",
    "slack)-----------transformer_slack_00--(n00)--------line_00_01-------(n01)--> load01_0\n",
    "                  y_lo=10k-10kj          |           y_lo=2k-2kj       |       P10=200 Q10=40\n",
    "                  y_tr=1µ+8µj            |           y_tr=2µ+2µj       |\n",
    "                                         |                             |\n",
    "                     _load00_0 <-------(n00)--|| cap00_1_            (n01)--((~)) gen01_0_\n",
    "                       P10=400 Q10=140             Q10=-40                         P10=-180\n",
    "                       Exp_v_p=1                   Exp_v_q=2                       Q10=-170\n",
    "                       Exp_v_q=1\n",
    "#.\n",
    "# create scaling factor 'kq_gen'\n",
    "Defk(id=kq_gen min=-1 max=1 value=0)\n",
    "\n",
    "# associate scaling factor 'kq_gen' to reactive power Q of gen01_0\n",
    "Klink(id_of_injection=gen01_0 id_of_factor=kq_gen part=q)\n",
    "\"\"\"\n",
    "frames04 = make_data_frames(create_objects(schema04))\n",
    "print_frames(frames04)"
   ]
  },
  {
   "cell_type": "code",
   "execution_count": null,
   "id": "be1ab3ad-21a7-4ddf-b90c-fa15f570942e",
   "metadata": {},
   "outputs": [],
   "source": [
    "pd.DataFrame.from_records(check_frames(frames04), columns=['message','level'])"
   ]
  },
  {
   "cell_type": "markdown",
   "id": "e88878f6-9a28-421f-8e76-870d4bfc1d56",
   "metadata": {},
   "source": [
    "[step_params](./help_params.ipynb)"
   ]
  },
  {
   "cell_type": "code",
   "execution_count": null,
   "id": "cf9adb3c-0091-413e-8be2-3be1fe934c93",
   "metadata": {
    "editable": true,
    "scrolled": true,
    "slideshow": {
     "slide_type": ""
    },
    "tags": []
   },
   "outputs": [],
   "source": [
    "model04 = model_from_frames(frames04)\n",
    "step_params04 = [dict(objectives='V')]\n",
    "results04 = dssex.estimate(model04, step_params=step_params04)"
   ]
  },
  {
   "cell_type": "code",
   "execution_count": null,
   "id": "95e1b449-c525-4666-bde6-31c487dca12b",
   "metadata": {
    "editable": true,
    "scrolled": true,
    "slideshow": {
     "slide_type": ""
    },
    "tags": []
   },
   "outputs": [],
   "source": [
    "print_results(results04)"
   ]
  },
  {
   "cell_type": "markdown",
   "id": "7d7f06c0-1928-4cf1-9a59-e2a3d7dbc539",
   "metadata": {},
   "source": [
    "## Calculate Tap Position\n",
    "Voltage is given by a set-point."
   ]
  },
  {
   "cell_type": "code",
   "execution_count": null,
   "id": "fd304f29-f504-4605-bae8-a7be057bf4fb",
   "metadata": {
    "scrolled": true
   },
   "outputs": [],
   "source": [
    "schema05 = \"\"\"\n",
    "      Tlink=taps                         V=1\n",
    "slack)-----------transformer_slack_00--(n00)--------line_00_01-------(n01)--> load01_0\n",
    "                  y_lo=10k-10kj          |           y_lo=2k-2kj               P10=200 Q10=40\n",
    "                  y_tr=1µ+8µj            |           y_tr=2µ+2µj\n",
    "                                         | \n",
    "                     _load00_0 <-------(n00)--|| cap00_1_\n",
    "                       P10=400 Q10=140             Q10=-40\n",
    "                       Exp_v_p=1                   Exp_v_q=2\n",
    "                       Exp_v_q=1\n",
    "#.\n",
    "Deft(id=taps type=var min=-9 max=9 value=0)\n",
    "\"\"\"\n",
    "frames05 = make_data_frames(create_objects(schema05))\n",
    "print_frames(frames05)"
   ]
  },
  {
   "cell_type": "code",
   "execution_count": null,
   "id": "ef52bd5b-4032-4d32-8d5d-05dc96a93e69",
   "metadata": {},
   "outputs": [],
   "source": [
    "pd.DataFrame.from_records(check_frames(frames05), columns=['message','level'])"
   ]
  },
  {
   "cell_type": "code",
   "execution_count": null,
   "id": "20e281f2-caba-4b55-8c45-37d0c218d0f1",
   "metadata": {
    "editable": true,
    "scrolled": true,
    "slideshow": {
     "slide_type": ""
    },
    "tags": []
   },
   "outputs": [],
   "source": [
    "model05 = model_from_frames(frames05)\n",
    "step_params05 = [dict(objectives='V')]\n",
    "results05 = dssex.estimate(model05, step_params05)"
   ]
  },
  {
   "cell_type": "code",
   "execution_count": null,
   "id": "fae963cc-2f02-43e6-b674-17e97036e423",
   "metadata": {
    "editable": true,
    "scrolled": true,
    "slideshow": {
     "slide_type": ""
    },
    "tags": []
   },
   "outputs": [],
   "source": [
    "print_results(results05)"
   ]
  }
 ],
 "metadata": {
  "kernelspec": {
   "display_name": "Python 3 (ipykernel)",
   "language": "python",
   "name": "python3"
  },
  "language_info": {
   "codemirror_mode": {
    "name": "ipython",
    "version": 3
   },
   "file_extension": ".py",
   "mimetype": "text/x-python",
   "name": "python",
   "nbconvert_exporter": "python",
   "pygments_lexer": "ipython3",
   "version": "3.10.11"
  }
 },
 "nbformat": 4,
 "nbformat_minor": 5
}
