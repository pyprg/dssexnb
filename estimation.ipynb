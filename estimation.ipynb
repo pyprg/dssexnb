{
 "cells": [
  {
   "cell_type": "markdown",
   "id": "cfaf0e63-575c-4863-b992-3a650ec193a7",
   "metadata": {},
   "source": [
    "For installation of **DSSEX** please follow [installation instructions](./readme.ipynb#Install-DSSEX).\n",
    "\n",
    "Alternatively you can run ```%pip install dssex``` in a cell."
   ]
  },
  {
   "cell_type": "code",
   "execution_count": null,
   "id": "4524d3b2-1358-495f-8b06-6ca44236fe5c",
   "metadata": {
    "editable": true,
    "jupyter": {
     "source_hidden": true
    },
    "slideshow": {
     "slide_type": ""
    },
    "tags": []
   },
   "outputs": [],
   "source": [
    "import dssex\n",
    "from egrid import create_objects, make_data_frames, check_frames, model_from_frames\n",
    "import pandas as pd\n",
    "pd.set_option('display.max_colwidth', None)\n",
    "\n",
    "def print_frames(frames):\n",
    "    \"\"\"Prints pandas.DataFrame instances stored in a dict\"\"\"\n",
    "    messages = frames.get('Message')\n",
    "    if messages is not None:\n",
    "        is_error = 1 < messages.level\n",
    "        errors = messages.loc[is_error].message\n",
    "        if not errors.empty:\n",
    "            print('Errors\\n')\n",
    "            for _, error in errors.items():\n",
    "                print()\n",
    "                print(error)\n",
    "            print()\n",
    "    for key,df in frames.items():\n",
    "        print()\n",
    "        print(key)\n",
    "        display(df)\n",
    "        \n",
    "def print_results(res):\n",
    "    \"\"\"Prints values returned from function dssex.estimate\"\"\"\n",
    "    messages, vals = res\n",
    "    if not messages.empty:\n",
    "        print('\\n\\n')\n",
    "        print('Messages')\n",
    "        display(messages)\n",
    "    last_index = len(vals) - 2\n",
    "    for idx, df in enumerate(vals, -1):\n",
    "        print('\\n\\n')\n",
    "        print(f'{\"RESULT >> \" if idx==last_index else \"\"}Optimization Step: {idx}')\n",
    "        for name in ['nodes', 'branches', 'injections']:\n",
    "            print()\n",
    "            print(name.title())\n",
    "            display(df[name])    "
   ]
  },
  {
   "cell_type": "markdown",
   "id": "275b1f72-2ab7-4bd7-9791-ce4dfd28e41b",
   "metadata": {},
   "source": [
    "# Estimation\n",
    "## Scale Active Power P"
   ]
  },
  {
   "cell_type": "code",
   "execution_count": null,
   "id": "57c37a07-07eb-44c8-984a-79a23411da6e",
   "metadata": {
    "scrolled": true
   },
   "outputs": [],
   "source": [
    "schema05 = \"\"\"\n",
    "       P=30\n",
    "slack)-----------transformer_slack_00--(n00)--------line_00_01-------(n01)\n",
    "                  y_lo=10k-10kj          |           y_lo=2k-2kj       |\n",
    "                  y_tr=1µ+8µj            |           y_tr=2µ+2µj       |\n",
    "                                         |                             |\n",
    "                     _load00_0 <-------(n00)--|| cap00_1_            (n01)--> load01_0_\n",
    "                       P10=12 Q10=7               Q10=-3                       P10=42\n",
    "                       Exp_v_p=1                  Exp_v_q=2                    Q10=27\n",
    "                       Exp_v_q=1\n",
    "#.\n",
    "Defk(id=kp min=0 max=1 )\n",
    "\n",
    "# associate scaling factor 'kp' to active power P of injections 'load00_0' and 'load01_0'\n",
    "Klink(id_of_injection(load00_0 load01_0) id_of_factor=kp part=p)\n",
    "\"\"\"\n",
    "frames05 = make_data_frames(create_objects(schema05))\n",
    "print_frames(frames05)"
   ]
  },
  {
   "cell_type": "code",
   "execution_count": null,
   "id": "c9821e3a-53b0-4fff-b6c8-af920d6def6d",
   "metadata": {},
   "outputs": [],
   "source": [
    "pd.DataFrame.from_records(check_frames(frames05), columns=['message','level'])"
   ]
  },
  {
   "cell_type": "markdown",
   "id": "5a03762c-bd7a-40dc-a783-8b23fbbe9e35",
   "metadata": {},
   "source": [
    "[step_params](./help_params.ipynb)"
   ]
  },
  {
   "cell_type": "code",
   "execution_count": null,
   "id": "ec3e9055-80fb-49d7-83b5-b8877f81a3ab",
   "metadata": {
    "editable": true,
    "scrolled": true,
    "slideshow": {
     "slide_type": ""
    },
    "tags": []
   },
   "outputs": [],
   "source": [
    "model05 = model_from_frames(frames05)\n",
    "# objective is 'meet active power measurement P'\n",
    "step_params = [\n",
    "    dict(objectives='P')\n",
    "]\n",
    "results05 = dssex.estimate(model05, step_params)"
   ]
  },
  {
   "cell_type": "markdown",
   "id": "d0f3c72f-8734-40ca-8312-7c383a22ff5d",
   "metadata": {},
   "source": [
    "Results for two steps. \n",
    "\n",
    "- Initial power flow calculation\n",
    "- Optimization"
   ]
  },
  {
   "cell_type": "code",
   "execution_count": null,
   "id": "1fcff3f9-cae9-4941-95b2-412548196cf2",
   "metadata": {
    "editable": true,
    "scrolled": true,
    "slideshow": {
     "slide_type": ""
    },
    "tags": []
   },
   "outputs": [],
   "source": [
    "print_results(results05)"
   ]
  },
  {
   "cell_type": "markdown",
   "id": "c81807b2-5d5c-4aa6-93d2-1995760e59f3",
   "metadata": {},
   "source": [
    "## Scale Active Power P and Reactive Power Q"
   ]
  },
  {
   "cell_type": "code",
   "execution_count": null,
   "id": "9162fead-2fc0-400f-8dc7-0e9ec5059a86",
   "metadata": {
    "scrolled": true
   },
   "outputs": [],
   "source": [
    "schema06 = \"\"\"\n",
    "       P=30 Q=15\n",
    "slack)-----------transformer_slack_00--(n00)--------line_00_01-------(n01)\n",
    "                  y_lo=10k-10kj          |           y_lo=2k-2kj       |\n",
    "                  y_tr=1µ+8µj            |           y_tr=2µ+2µj       |\n",
    "                                         |                             |\n",
    "                     _load00_0 <-------(n00)--|| cap00_1_            (n01)--> load01_0_\n",
    "                       P10=12 Q10=7               Q10=-3                       P10=42\n",
    "                       Exp_v_p=1                  Exp_v_q=2                    Q10=27\n",
    "                       Exp_v_q=1\n",
    "#.\n",
    "Defk(id(kp kq) min=0 max=1)\n",
    "\n",
    "# associate scaling factor 'kp'/'kq' to active/reactive power P/Q of injections 'load00_0' and 'load01_0'\n",
    "Klink(id_of_injection(load00_0  load01_0) id_of_factor(kp kq) part(p q))\n",
    "\"\"\"\n",
    "frames06 = make_data_frames(create_objects(schema06))\n",
    "print_frames(frames06)"
   ]
  },
  {
   "cell_type": "code",
   "execution_count": null,
   "id": "3169235a-094d-4eb0-aafd-f3ae261b8068",
   "metadata": {},
   "outputs": [],
   "source": [
    "pd.DataFrame.from_records(check_frames(frames05), columns=['message','level'])"
   ]
  },
  {
   "cell_type": "code",
   "execution_count": null,
   "id": "d2d5b67b-6378-46a0-9689-712b11940142",
   "metadata": {
    "editable": true,
    "scrolled": true,
    "slideshow": {
     "slide_type": ""
    },
    "tags": []
   },
   "outputs": [],
   "source": [
    "model06 = model_from_frames(frames06)\n",
    "# objective is 'meet active power measurements P and Q'\n",
    "step_params = [\n",
    "    dict(objectives='PQ')\n",
    "]\n",
    "results06 = dssex.estimate(model06, step_params)"
   ]
  },
  {
   "cell_type": "code",
   "execution_count": null,
   "id": "29902c2e-d328-4f8b-8734-82e45f905480",
   "metadata": {
    "editable": true,
    "scrolled": true,
    "slideshow": {
     "slide_type": ""
    },
    "tags": []
   },
   "outputs": [],
   "source": [
    "print_results(results06)"
   ]
  }
 ],
 "metadata": {
  "kernelspec": {
   "display_name": "Python 3 (ipykernel)",
   "language": "python",
   "name": "python3"
  },
  "language_info": {
   "codemirror_mode": {
    "name": "ipython",
    "version": 3
   },
   "file_extension": ".py",
   "mimetype": "text/x-python",
   "name": "python",
   "nbconvert_exporter": "python",
   "pygments_lexer": "ipython3",
   "version": "3.10.11"
  }
 },
 "nbformat": 4,
 "nbformat_minor": 5
}
