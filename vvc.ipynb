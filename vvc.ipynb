{
 "cells": [
  {
   "cell_type": "markdown",
   "id": "e22fe2f4-2024-463b-88d2-97f21dd95a56",
   "metadata": {},
   "source": [
    "For installation of **DSSEX** please follow [installation instructions](./readme.ipynb#Install-DSSEX) or run the next cell."
   ]
  },
  {
   "cell_type": "code",
   "execution_count": 1,
   "id": "980659af-bf93-4fb3-9202-feec329cf238",
   "metadata": {},
   "outputs": [
    {
     "name": "stdout",
     "output_type": "stream",
     "text": [
      "Note: you may need to restart the kernel to use updated packages.\n"
     ]
    },
    {
     "name": "stderr",
     "output_type": "stream",
     "text": [
      "\n",
      "[notice] A new release of pip is available: 23.3.1 -> 23.3.2\n",
      "[notice] To update, run: python.exe -m pip install --upgrade pip\n"
     ]
    }
   ],
   "source": [
    "# in case you want to install dssex in the environment of Jupyter e.g. Google Colab\n",
    "%pip install -q dssex"
   ]
  },
  {
   "cell_type": "code",
   "execution_count": 2,
   "id": "4524d3b2-1358-495f-8b06-6ca44236fe5c",
   "metadata": {
    "editable": true,
    "slideshow": {
     "slide_type": ""
    },
    "tags": []
   },
   "outputs": [],
   "source": [
    "import dssex\n",
    "from egrid import create_objects, make_data_frames, check_frames, model_from_frames\n",
    "import pandas as pd\n",
    "pd.set_option('display.max_colwidth', None)\n",
    "\n",
    "def print_frames(frames):\n",
    "    \"\"\"Prints pandas.DataFrame instances stored in a dict\"\"\"\n",
    "    messages = frames.get('Message')\n",
    "    if messages is not None:\n",
    "        is_error = 1 < messages.level\n",
    "        errors = messages.loc[is_error].message\n",
    "        if not errors.empty:\n",
    "            print('Errors\\n')\n",
    "            for _, error in errors.items():\n",
    "                print()\n",
    "                print(error)\n",
    "            print()\n",
    "    for key,df in frames.items():\n",
    "        print()\n",
    "        print(key)\n",
    "        display(df)\n",
    "        \n",
    "def print_results(res):\n",
    "    \"\"\"Prints values returned from function dssex.estimate\"\"\"\n",
    "    messages, vals = res\n",
    "    if not messages.empty:\n",
    "        print('\\n\\n')\n",
    "        print('Messages')\n",
    "        display(messages)\n",
    "    last_index = len(vals) - 2\n",
    "    for idx, df in enumerate(vals, -1):\n",
    "        print('\\n\\n')\n",
    "        print(f'{\"RESULT >> \" if idx==last_index else \"\"}Optimization Step: {idx}')\n",
    "        for name in ['nodes', 'branches', 'injections']:\n",
    "            print()\n",
    "            print(name.title())\n",
    "            display(df[name])    "
   ]
  },
  {
   "cell_type": "markdown",
   "id": "275b1f72-2ab7-4bd7-9791-ce4dfd28e41b",
   "metadata": {},
   "source": [
    "# Volt-Var-Control"
   ]
  },
  {
   "cell_type": "code",
   "execution_count": 3,
   "id": "57c37a07-07eb-44c8-984a-79a23411da6e",
   "metadata": {
    "scrolled": true
   },
   "outputs": [
    {
     "name": "stdout",
     "output_type": "stream",
     "text": [
      "\n",
      "Branch\n"
     ]
    },
    {
     "name": "stderr",
     "output_type": "stream",
     "text": [
      "C:\\Users\\live\\venv\\3_10\\lib\\site-packages\\egrid\\builder.py:495: FutureWarning: The behavior of DataFrame concatenation with empty or all-NA entries is deprecated. In a future version, this will no longer exclude empty or all-NA columns when determining the result dtypes. To retain the old behavior, exclude the relevant entries before the concat operation.\n",
      "  dataframes[Factor.__name__] = pd.concat(\n",
      "C:\\Users\\live\\venv\\3_10\\lib\\site-packages\\egrid\\builder.py:510: FutureWarning: The behavior of DataFrame concatenation with empty or all-NA entries is deprecated. In a future version, this will no longer exclude empty or all-NA columns when determining the result dtypes. To retain the old behavior, exclude the relevant entries before the concat operation.\n",
      "  dataframes[Vlimit.__name__] = pd.concat([vlimits, vlimits2])\n"
     ]
    },
    {
     "data": {
      "text/html": [
       "<div>\n",
       "<style scoped>\n",
       "    .dataframe tbody tr th:only-of-type {\n",
       "        vertical-align: middle;\n",
       "    }\n",
       "\n",
       "    .dataframe tbody tr th {\n",
       "        vertical-align: top;\n",
       "    }\n",
       "\n",
       "    .dataframe thead th {\n",
       "        text-align: right;\n",
       "    }\n",
       "</style>\n",
       "<table border=\"1\" class=\"dataframe\">\n",
       "  <thead>\n",
       "    <tr style=\"text-align: right;\">\n",
       "      <th></th>\n",
       "      <th>id</th>\n",
       "      <th>id_of_node_A</th>\n",
       "      <th>id_of_node_B</th>\n",
       "      <th>y_lo</th>\n",
       "      <th>y_tr</th>\n",
       "    </tr>\n",
       "  </thead>\n",
       "  <tbody>\n",
       "    <tr>\n",
       "      <th>0</th>\n",
       "      <td>transformer</td>\n",
       "      <td>slack</td>\n",
       "      <td>n</td>\n",
       "      <td>1000.0-1000.0j</td>\n",
       "      <td>0.000001+0.000001j</td>\n",
       "    </tr>\n",
       "  </tbody>\n",
       "</table>\n",
       "</div>"
      ],
      "text/plain": [
       "            id id_of_node_A id_of_node_B            y_lo                y_tr\n",
       "0  transformer        slack            n  1000.0-1000.0j  0.000001+0.000001j"
      ]
     },
     "metadata": {},
     "output_type": "display_data"
    },
    {
     "name": "stdout",
     "output_type": "stream",
     "text": [
      "\n",
      "Slacknode\n"
     ]
    },
    {
     "data": {
      "text/html": [
       "<div>\n",
       "<style scoped>\n",
       "    .dataframe tbody tr th:only-of-type {\n",
       "        vertical-align: middle;\n",
       "    }\n",
       "\n",
       "    .dataframe tbody tr th {\n",
       "        vertical-align: top;\n",
       "    }\n",
       "\n",
       "    .dataframe thead th {\n",
       "        text-align: right;\n",
       "    }\n",
       "</style>\n",
       "<table border=\"1\" class=\"dataframe\">\n",
       "  <thead>\n",
       "    <tr style=\"text-align: right;\">\n",
       "      <th></th>\n",
       "      <th>id_of_node</th>\n",
       "      <th>V</th>\n",
       "    </tr>\n",
       "  </thead>\n",
       "  <tbody>\n",
       "    <tr>\n",
       "      <th>0</th>\n",
       "      <td>slack</td>\n",
       "      <td>1.0+0.0j</td>\n",
       "    </tr>\n",
       "  </tbody>\n",
       "</table>\n",
       "</div>"
      ],
      "text/plain": [
       "  id_of_node         V\n",
       "0      slack  1.0+0.0j"
      ]
     },
     "metadata": {},
     "output_type": "display_data"
    },
    {
     "name": "stdout",
     "output_type": "stream",
     "text": [
      "\n",
      "Injection\n"
     ]
    },
    {
     "data": {
      "text/html": [
       "<div>\n",
       "<style scoped>\n",
       "    .dataframe tbody tr th:only-of-type {\n",
       "        vertical-align: middle;\n",
       "    }\n",
       "\n",
       "    .dataframe tbody tr th {\n",
       "        vertical-align: top;\n",
       "    }\n",
       "\n",
       "    .dataframe thead th {\n",
       "        text-align: right;\n",
       "    }\n",
       "</style>\n",
       "<table border=\"1\" class=\"dataframe\">\n",
       "  <thead>\n",
       "    <tr style=\"text-align: right;\">\n",
       "      <th></th>\n",
       "      <th>id</th>\n",
       "      <th>id_of_node</th>\n",
       "      <th>P10</th>\n",
       "      <th>Q10</th>\n",
       "      <th>Exp_v_p</th>\n",
       "      <th>Exp_v_q</th>\n",
       "    </tr>\n",
       "  </thead>\n",
       "  <tbody>\n",
       "    <tr>\n",
       "      <th>0</th>\n",
       "      <td>heating</td>\n",
       "      <td>n</td>\n",
       "      <td>200.0</td>\n",
       "      <td>0.0</td>\n",
       "      <td>0.0</td>\n",
       "      <td>0.0</td>\n",
       "    </tr>\n",
       "    <tr>\n",
       "      <th>1</th>\n",
       "      <td>cap</td>\n",
       "      <td>n</td>\n",
       "      <td>0.0</td>\n",
       "      <td>-10.0</td>\n",
       "      <td>0.0</td>\n",
       "      <td>2.0</td>\n",
       "    </tr>\n",
       "    <tr>\n",
       "      <th>2</th>\n",
       "      <td>motor</td>\n",
       "      <td>n</td>\n",
       "      <td>160.0</td>\n",
       "      <td>10.0</td>\n",
       "      <td>0.0</td>\n",
       "      <td>0.0</td>\n",
       "    </tr>\n",
       "  </tbody>\n",
       "</table>\n",
       "</div>"
      ],
      "text/plain": [
       "        id id_of_node    P10   Q10  Exp_v_p  Exp_v_q\n",
       "0  heating          n  200.0   0.0      0.0      0.0\n",
       "1      cap          n    0.0 -10.0      0.0      2.0\n",
       "2    motor          n  160.0  10.0      0.0      0.0"
      ]
     },
     "metadata": {},
     "output_type": "display_data"
    },
    {
     "name": "stdout",
     "output_type": "stream",
     "text": [
      "\n",
      "Output\n"
     ]
    },
    {
     "data": {
      "text/html": [
       "<div>\n",
       "<style scoped>\n",
       "    .dataframe tbody tr th:only-of-type {\n",
       "        vertical-align: middle;\n",
       "    }\n",
       "\n",
       "    .dataframe tbody tr th {\n",
       "        vertical-align: top;\n",
       "    }\n",
       "\n",
       "    .dataframe thead th {\n",
       "        text-align: right;\n",
       "    }\n",
       "</style>\n",
       "<table border=\"1\" class=\"dataframe\">\n",
       "  <thead>\n",
       "    <tr style=\"text-align: right;\">\n",
       "      <th></th>\n",
       "      <th>id_of_batch</th>\n",
       "      <th>id_of_device</th>\n",
       "      <th>id_of_node</th>\n",
       "    </tr>\n",
       "  </thead>\n",
       "  <tbody>\n",
       "  </tbody>\n",
       "</table>\n",
       "</div>"
      ],
      "text/plain": [
       "Empty DataFrame\n",
       "Columns: [id_of_batch, id_of_device, id_of_node]\n",
       "Index: []"
      ]
     },
     "metadata": {},
     "output_type": "display_data"
    },
    {
     "name": "stdout",
     "output_type": "stream",
     "text": [
      "\n",
      "PValue\n"
     ]
    },
    {
     "data": {
      "text/html": [
       "<div>\n",
       "<style scoped>\n",
       "    .dataframe tbody tr th:only-of-type {\n",
       "        vertical-align: middle;\n",
       "    }\n",
       "\n",
       "    .dataframe tbody tr th {\n",
       "        vertical-align: top;\n",
       "    }\n",
       "\n",
       "    .dataframe thead th {\n",
       "        text-align: right;\n",
       "    }\n",
       "</style>\n",
       "<table border=\"1\" class=\"dataframe\">\n",
       "  <thead>\n",
       "    <tr style=\"text-align: right;\">\n",
       "      <th></th>\n",
       "      <th>id_of_batch</th>\n",
       "      <th>P</th>\n",
       "      <th>direction</th>\n",
       "      <th>cost</th>\n",
       "    </tr>\n",
       "  </thead>\n",
       "  <tbody>\n",
       "  </tbody>\n",
       "</table>\n",
       "</div>"
      ],
      "text/plain": [
       "Empty DataFrame\n",
       "Columns: [id_of_batch, P, direction, cost]\n",
       "Index: []"
      ]
     },
     "metadata": {},
     "output_type": "display_data"
    },
    {
     "name": "stdout",
     "output_type": "stream",
     "text": [
      "\n",
      "QValue\n"
     ]
    },
    {
     "data": {
      "text/html": [
       "<div>\n",
       "<style scoped>\n",
       "    .dataframe tbody tr th:only-of-type {\n",
       "        vertical-align: middle;\n",
       "    }\n",
       "\n",
       "    .dataframe tbody tr th {\n",
       "        vertical-align: top;\n",
       "    }\n",
       "\n",
       "    .dataframe thead th {\n",
       "        text-align: right;\n",
       "    }\n",
       "</style>\n",
       "<table border=\"1\" class=\"dataframe\">\n",
       "  <thead>\n",
       "    <tr style=\"text-align: right;\">\n",
       "      <th></th>\n",
       "      <th>id_of_batch</th>\n",
       "      <th>Q</th>\n",
       "      <th>direction</th>\n",
       "      <th>cost</th>\n",
       "    </tr>\n",
       "  </thead>\n",
       "  <tbody>\n",
       "  </tbody>\n",
       "</table>\n",
       "</div>"
      ],
      "text/plain": [
       "Empty DataFrame\n",
       "Columns: [id_of_batch, Q, direction, cost]\n",
       "Index: []"
      ]
     },
     "metadata": {},
     "output_type": "display_data"
    },
    {
     "name": "stdout",
     "output_type": "stream",
     "text": [
      "\n",
      "IValue\n"
     ]
    },
    {
     "data": {
      "text/html": [
       "<div>\n",
       "<style scoped>\n",
       "    .dataframe tbody tr th:only-of-type {\n",
       "        vertical-align: middle;\n",
       "    }\n",
       "\n",
       "    .dataframe tbody tr th {\n",
       "        vertical-align: top;\n",
       "    }\n",
       "\n",
       "    .dataframe thead th {\n",
       "        text-align: right;\n",
       "    }\n",
       "</style>\n",
       "<table border=\"1\" class=\"dataframe\">\n",
       "  <thead>\n",
       "    <tr style=\"text-align: right;\">\n",
       "      <th></th>\n",
       "      <th>id_of_batch</th>\n",
       "      <th>I</th>\n",
       "    </tr>\n",
       "  </thead>\n",
       "  <tbody>\n",
       "  </tbody>\n",
       "</table>\n",
       "</div>"
      ],
      "text/plain": [
       "Empty DataFrame\n",
       "Columns: [id_of_batch, I]\n",
       "Index: []"
      ]
     },
     "metadata": {},
     "output_type": "display_data"
    },
    {
     "name": "stdout",
     "output_type": "stream",
     "text": [
      "\n",
      "Vvalue\n"
     ]
    },
    {
     "data": {
      "text/html": [
       "<div>\n",
       "<style scoped>\n",
       "    .dataframe tbody tr th:only-of-type {\n",
       "        vertical-align: middle;\n",
       "    }\n",
       "\n",
       "    .dataframe tbody tr th {\n",
       "        vertical-align: top;\n",
       "    }\n",
       "\n",
       "    .dataframe thead th {\n",
       "        text-align: right;\n",
       "    }\n",
       "</style>\n",
       "<table border=\"1\" class=\"dataframe\">\n",
       "  <thead>\n",
       "    <tr style=\"text-align: right;\">\n",
       "      <th></th>\n",
       "      <th>id_of_node</th>\n",
       "      <th>V</th>\n",
       "    </tr>\n",
       "  </thead>\n",
       "  <tbody>\n",
       "  </tbody>\n",
       "</table>\n",
       "</div>"
      ],
      "text/plain": [
       "Empty DataFrame\n",
       "Columns: [id_of_node, V]\n",
       "Index: []"
      ]
     },
     "metadata": {},
     "output_type": "display_data"
    },
    {
     "name": "stdout",
     "output_type": "stream",
     "text": [
      "\n",
      "Vlimit\n"
     ]
    },
    {
     "data": {
      "text/html": [
       "<div>\n",
       "<style scoped>\n",
       "    .dataframe tbody tr th:only-of-type {\n",
       "        vertical-align: middle;\n",
       "    }\n",
       "\n",
       "    .dataframe tbody tr th {\n",
       "        vertical-align: top;\n",
       "    }\n",
       "\n",
       "    .dataframe thead th {\n",
       "        text-align: right;\n",
       "    }\n",
       "</style>\n",
       "<table border=\"1\" class=\"dataframe\">\n",
       "  <thead>\n",
       "    <tr style=\"text-align: right;\">\n",
       "      <th></th>\n",
       "      <th>id_of_node</th>\n",
       "      <th>min</th>\n",
       "      <th>max</th>\n",
       "      <th>step</th>\n",
       "    </tr>\n",
       "  </thead>\n",
       "  <tbody>\n",
       "    <tr>\n",
       "      <th>0</th>\n",
       "      <td></td>\n",
       "      <td>0.95</td>\n",
       "      <td>1.1</td>\n",
       "      <td>-1</td>\n",
       "    </tr>\n",
       "  </tbody>\n",
       "</table>\n",
       "</div>"
      ],
      "text/plain": [
       "  id_of_node   min  max step\n",
       "0             0.95  1.1   -1"
      ]
     },
     "metadata": {},
     "output_type": "display_data"
    },
    {
     "name": "stdout",
     "output_type": "stream",
     "text": [
      "\n",
      "Term\n"
     ]
    },
    {
     "data": {
      "text/html": [
       "<div>\n",
       "<style scoped>\n",
       "    .dataframe tbody tr th:only-of-type {\n",
       "        vertical-align: middle;\n",
       "    }\n",
       "\n",
       "    .dataframe tbody tr th {\n",
       "        vertical-align: top;\n",
       "    }\n",
       "\n",
       "    .dataframe thead th {\n",
       "        text-align: right;\n",
       "    }\n",
       "</style>\n",
       "<table border=\"1\" class=\"dataframe\">\n",
       "  <thead>\n",
       "    <tr style=\"text-align: right;\">\n",
       "      <th></th>\n",
       "      <th>id</th>\n",
       "      <th>args</th>\n",
       "      <th>fn</th>\n",
       "      <th>weight</th>\n",
       "      <th>step</th>\n",
       "    </tr>\n",
       "  </thead>\n",
       "  <tbody>\n",
       "  </tbody>\n",
       "</table>\n",
       "</div>"
      ],
      "text/plain": [
       "Empty DataFrame\n",
       "Columns: [id, args, fn, weight, step]\n",
       "Index: []"
      ]
     },
     "metadata": {},
     "output_type": "display_data"
    },
    {
     "name": "stdout",
     "output_type": "stream",
     "text": [
      "\n",
      "Factor\n"
     ]
    },
    {
     "data": {
      "text/html": [
       "<div>\n",
       "<style scoped>\n",
       "    .dataframe tbody tr th:only-of-type {\n",
       "        vertical-align: middle;\n",
       "    }\n",
       "\n",
       "    .dataframe tbody tr th {\n",
       "        vertical-align: top;\n",
       "    }\n",
       "\n",
       "    .dataframe thead th {\n",
       "        text-align: right;\n",
       "    }\n",
       "</style>\n",
       "<table border=\"1\" class=\"dataframe\">\n",
       "  <thead>\n",
       "    <tr style=\"text-align: right;\">\n",
       "      <th></th>\n",
       "      <th>id</th>\n",
       "      <th>type</th>\n",
       "      <th>id_of_source</th>\n",
       "      <th>value</th>\n",
       "      <th>min</th>\n",
       "      <th>max</th>\n",
       "      <th>is_discrete</th>\n",
       "      <th>m</th>\n",
       "      <th>n</th>\n",
       "      <th>step</th>\n",
       "      <th>cost</th>\n",
       "    </tr>\n",
       "  </thead>\n",
       "  <tbody>\n",
       "    <tr>\n",
       "      <th>0</th>\n",
       "      <td>kcap</td>\n",
       "      <td>var</td>\n",
       "      <td>kcap</td>\n",
       "      <td>0.0</td>\n",
       "      <td>0.0</td>\n",
       "      <td>5.0</td>\n",
       "      <td>True</td>\n",
       "      <td>1.00000</td>\n",
       "      <td>0.0</td>\n",
       "      <td>-1</td>\n",
       "      <td>0.05</td>\n",
       "    </tr>\n",
       "    <tr>\n",
       "      <th>0</th>\n",
       "      <td>tap</td>\n",
       "      <td>var</td>\n",
       "      <td>tap</td>\n",
       "      <td>0.0</td>\n",
       "      <td>-16.0</td>\n",
       "      <td>16.0</td>\n",
       "      <td>True</td>\n",
       "      <td>-0.00625</td>\n",
       "      <td>1.0</td>\n",
       "      <td>-1</td>\n",
       "      <td>0.03</td>\n",
       "    </tr>\n",
       "  </tbody>\n",
       "</table>\n",
       "</div>"
      ],
      "text/plain": [
       "     id type id_of_source  value   min   max is_discrete        m    n step  \\\n",
       "0  kcap  var         kcap    0.0   0.0   5.0        True  1.00000  0.0   -1   \n",
       "0   tap  var          tap    0.0 -16.0  16.0        True -0.00625  1.0   -1   \n",
       "\n",
       "   cost  \n",
       "0  0.05  \n",
       "0  0.03  "
      ]
     },
     "metadata": {},
     "output_type": "display_data"
    },
    {
     "name": "stdout",
     "output_type": "stream",
     "text": [
      "\n",
      "Message\n"
     ]
    },
    {
     "data": {
      "text/html": [
       "<div>\n",
       "<style scoped>\n",
       "    .dataframe tbody tr th:only-of-type {\n",
       "        vertical-align: middle;\n",
       "    }\n",
       "\n",
       "    .dataframe tbody tr th {\n",
       "        vertical-align: top;\n",
       "    }\n",
       "\n",
       "    .dataframe thead th {\n",
       "        text-align: right;\n",
       "    }\n",
       "</style>\n",
       "<table border=\"1\" class=\"dataframe\">\n",
       "  <thead>\n",
       "    <tr style=\"text-align: right;\">\n",
       "      <th></th>\n",
       "      <th>message</th>\n",
       "      <th>level</th>\n",
       "    </tr>\n",
       "  </thead>\n",
       "  <tbody>\n",
       "  </tbody>\n",
       "</table>\n",
       "</div>"
      ],
      "text/plain": [
       "Empty DataFrame\n",
       "Columns: [message, level]\n",
       "Index: []"
      ]
     },
     "metadata": {},
     "output_type": "display_data"
    },
    {
     "name": "stdout",
     "output_type": "stream",
     "text": [
      "\n",
      "Injectionlink\n"
     ]
    },
    {
     "data": {
      "text/html": [
       "<div>\n",
       "<style scoped>\n",
       "    .dataframe tbody tr th:only-of-type {\n",
       "        vertical-align: middle;\n",
       "    }\n",
       "\n",
       "    .dataframe tbody tr th {\n",
       "        vertical-align: top;\n",
       "    }\n",
       "\n",
       "    .dataframe thead th {\n",
       "        text-align: right;\n",
       "    }\n",
       "</style>\n",
       "<table border=\"1\" class=\"dataframe\">\n",
       "  <thead>\n",
       "    <tr style=\"text-align: right;\">\n",
       "      <th></th>\n",
       "      <th>injid</th>\n",
       "      <th>part</th>\n",
       "      <th>id</th>\n",
       "      <th>step</th>\n",
       "    </tr>\n",
       "  </thead>\n",
       "  <tbody>\n",
       "    <tr>\n",
       "      <th>0</th>\n",
       "      <td>cap</td>\n",
       "      <td>q</td>\n",
       "      <td>kcap</td>\n",
       "      <td>-1</td>\n",
       "    </tr>\n",
       "  </tbody>\n",
       "</table>\n",
       "</div>"
      ],
      "text/plain": [
       "  injid part    id  step\n",
       "0   cap    q  kcap    -1"
      ]
     },
     "metadata": {},
     "output_type": "display_data"
    },
    {
     "name": "stdout",
     "output_type": "stream",
     "text": [
      "\n",
      "Terminallink\n"
     ]
    },
    {
     "data": {
      "text/html": [
       "<div>\n",
       "<style scoped>\n",
       "    .dataframe tbody tr th:only-of-type {\n",
       "        vertical-align: middle;\n",
       "    }\n",
       "\n",
       "    .dataframe tbody tr th {\n",
       "        vertical-align: top;\n",
       "    }\n",
       "\n",
       "    .dataframe thead th {\n",
       "        text-align: right;\n",
       "    }\n",
       "</style>\n",
       "<table border=\"1\" class=\"dataframe\">\n",
       "  <thead>\n",
       "    <tr style=\"text-align: right;\">\n",
       "      <th></th>\n",
       "      <th>branchid</th>\n",
       "      <th>nodeid</th>\n",
       "      <th>id</th>\n",
       "      <th>step</th>\n",
       "    </tr>\n",
       "  </thead>\n",
       "  <tbody>\n",
       "    <tr>\n",
       "      <th>0</th>\n",
       "      <td>transformer</td>\n",
       "      <td>slack</td>\n",
       "      <td>tap</td>\n",
       "      <td>-1</td>\n",
       "    </tr>\n",
       "  </tbody>\n",
       "</table>\n",
       "</div>"
      ],
      "text/plain": [
       "      branchid nodeid   id  step\n",
       "0  transformer  slack  tap    -1"
      ]
     },
     "metadata": {},
     "output_type": "display_data"
    }
   ],
   "source": [
    "schema00 = \"\"\"\n",
    "slack +-----------transformer-----------+ n +-----------> heating\n",
    "      Tlink=tap    y_lo=1e3-1e3j          |               P10=200\n",
    "                   y_tr=1e-6+1e-6j        |\n",
    "                                          | \n",
    "                                          | \n",
    "                         cap ||---------+ n +-------((~)) motor\n",
    "                          Q10=-10                          P10=160\n",
    "                          Exp_v_q=2                        Q10=10\n",
    "\n",
    "#.\n",
    "Deft(id=tap type=var min=-16 max=16 value=0 is_discrete=True cost=.03)\n",
    "Defk(id=kcap type=var min=0 max=5 value=0 is_discrete=True cost=.05)\n",
    "Klink(id_of_injection=cap id_of_factor=kcap part=q)\n",
    "Vlimit(min=.95)\n",
    "\"\"\"\n",
    "frames00 = make_data_frames(create_objects(schema00))\n",
    "print_frames(frames00)"
   ]
  },
  {
   "cell_type": "code",
   "execution_count": 4,
   "id": "c9821e3a-53b0-4fff-b6c8-af920d6def6d",
   "metadata": {},
   "outputs": [
    {
     "data": {
      "text/html": [
       "<div>\n",
       "<style scoped>\n",
       "    .dataframe tbody tr th:only-of-type {\n",
       "        vertical-align: middle;\n",
       "    }\n",
       "\n",
       "    .dataframe tbody tr th {\n",
       "        vertical-align: top;\n",
       "    }\n",
       "\n",
       "    .dataframe thead th {\n",
       "        text-align: right;\n",
       "    }\n",
       "</style>\n",
       "<table border=\"1\" class=\"dataframe\">\n",
       "  <thead>\n",
       "    <tr style=\"text-align: right;\">\n",
       "      <th></th>\n",
       "      <th>message</th>\n",
       "      <th>level</th>\n",
       "    </tr>\n",
       "  </thead>\n",
       "  <tbody>\n",
       "    <tr>\n",
       "      <th>0</th>\n",
       "      <td>count of slack-nodes: 1</td>\n",
       "      <td>0</td>\n",
       "    </tr>\n",
       "    <tr>\n",
       "      <th>1</th>\n",
       "      <td>count of branches: 1</td>\n",
       "      <td>0</td>\n",
       "    </tr>\n",
       "    <tr>\n",
       "      <th>2</th>\n",
       "      <td>count of injections: 3</td>\n",
       "      <td>0</td>\n",
       "    </tr>\n",
       "  </tbody>\n",
       "</table>\n",
       "</div>"
      ],
      "text/plain": [
       "                   message  level\n",
       "0  count of slack-nodes: 1      0\n",
       "1     count of branches: 1      0\n",
       "2   count of injections: 3      0"
      ]
     },
     "execution_count": 4,
     "metadata": {},
     "output_type": "execute_result"
    }
   ],
   "source": [
    "pd.DataFrame.from_records(check_frames(frames00), columns=['message','level'])"
   ]
  },
  {
   "cell_type": "markdown",
   "id": "5a03762c-bd7a-40dc-a783-8b23fbbe9e35",
   "metadata": {},
   "source": [
    "[step_params](./help_params.ipynb)"
   ]
  },
  {
   "cell_type": "code",
   "execution_count": 5,
   "id": "ec3e9055-80fb-49d7-83b5-b8877f81a3ab",
   "metadata": {
    "editable": true,
    "scrolled": true,
    "slideshow": {
     "slide_type": ""
    },
    "tags": []
   },
   "outputs": [
    {
     "name": "stdout",
     "output_type": "stream",
     "text": [
      "\n",
      "******************************************************************************\n",
      "This program contains Ipopt, a library for large-scale nonlinear optimization.\n",
      " Ipopt is released as open source code under the Eclipse Public License (EPL).\n",
      "         For more information visit https://github.com/coin-or/Ipopt\n",
      "******************************************************************************\n",
      "\n",
      "This is Ipopt version 3.14.11, running with linear solver MUMPS 5.4.1.\n",
      "\n",
      "Number of nonzeros in equality constraint Jacobian...:       10\n",
      "Number of nonzeros in inequality constraint Jacobian.:        0\n",
      "Number of nonzeros in Lagrangian Hessian.............:        3\n",
      "\n",
      "Total number of variables............................:        4\n",
      "                     variables with only lower bounds:        0\n",
      "                variables with lower and upper bounds:        0\n",
      "                     variables with only upper bounds:        0\n",
      "Total number of equality constraints.................:        4\n",
      "Total number of inequality constraints...............:        0\n",
      "        inequality constraints with only lower bounds:        0\n",
      "   inequality constraints with lower and upper bounds:        0\n",
      "        inequality constraints with only upper bounds:        0\n",
      "\n",
      "iter    objective    inf_pr   inf_du lg(mu)  ||d||  lg(rg) alpha_du alpha_pr  ls\n",
      "   0  0.0000000e+00 1.20e+02 0.00e+00  -1.0 0.00e+00    -  0.00e+00 0.00e+00   0\n",
      "   1  0.0000000e+00 1.06e+00 0.00e+00  -1.0 6.94e-02    -  1.00e+00 1.00e+00h  1\n",
      "   2  0.0000000e+00 6.71e-05 0.00e+00  -2.5 5.92e-04    -  1.00e+00 1.00e+00h  1\n",
      "   3  0.0000000e+00 4.55e-13 0.00e+00  -8.6 4.94e-08    -  1.00e+00 1.00e+00h  1\n",
      "\n",
      "Number of Iterations....: 3\n",
      "\n",
      "                                   (scaled)                 (unscaled)\n",
      "Objective...............:   0.0000000000000000e+00    0.0000000000000000e+00\n",
      "Dual infeasibility......:   0.0000000000000000e+00    0.0000000000000000e+00\n",
      "Constraint violation....:   4.5323656257117847e-14    4.5474735088646412e-13\n",
      "Variable bound violation:   0.0000000000000000e+00    0.0000000000000000e+00\n",
      "Complementarity.........:   0.0000000000000000e+00    0.0000000000000000e+00\n",
      "Overall NLP error.......:   4.5323656257117847e-14    4.5474735088646412e-13\n",
      "\n",
      "\n",
      "Number of objective function evaluations             = 4\n",
      "Number of objective gradient evaluations             = 4\n",
      "Number of equality constraint evaluations            = 4\n",
      "Number of inequality constraint evaluations          = 0\n",
      "Number of equality constraint Jacobian evaluations   = 4\n",
      "Number of inequality constraint Jacobian evaluations = 0\n",
      "Number of Lagrangian Hessian evaluations             = 3\n",
      "Total seconds in IPOPT                               = 0.021\n",
      "\n",
      "EXIT: Optimal Solution Found.\n",
      "      nlpsol  :   t_proc      (avg)   t_wall      (avg)    n_eval\n",
      "       nlp_f  |        0 (       0)   3.00us (750.00ns)         4\n",
      "       nlp_g  |        0 (       0)  13.00us (  3.25us)         4\n",
      "  nlp_grad_f  |        0 (       0)  10.00us (  2.00us)         5\n",
      "  nlp_hess_l  |        0 (       0)  37.00us ( 12.33us)         3\n",
      "   nlp_jac_g  |        0 (       0) 875.00us (175.00us)         5\n",
      "       total  |  32.00ms ( 32.00ms)  28.62ms ( 28.62ms)         1\n",
      "NLP0012I \n",
      "              Num      Status      Obj             It       time                 Location\n",
      "NLP0014I             1         OPT 0.00011193819       11 0.016\n",
      "NLP0012I \n",
      "              Num      Status      Obj             It       time                 Location\n",
      "NLP0014I             1         OPT 0.00011193819       11 0.013\n",
      "NLP0014I             2         OPT 0.00011193819        7 0.001\n",
      "NLP0014I             3         OPT 0.00011287555        6 0\n",
      "NLP0014I             4         OPT 0.00011287554        2 0\n",
      "NLP0012I \n",
      "              Num      Status      Obj             It       time                 Location\n",
      "NLP0014I             1         OPT 0.00011287554        0 0\n",
      "Cbc0012I Integer solution of 0.00011287554 found by DiveMIPFractional after 0 iterations and 0 nodes (0.01 seconds)\n",
      "Cbc0001I Search completed - best objective 0.0001128755408450736, took 0 iterations and 0 nodes (0.01 seconds)\n",
      "Cbc0035I Maximum depth 0, 0 variables fixed on reduced cost\n",
      "      solver  :   t_proc      (avg)   t_wall      (avg)    n_eval\n",
      "       nlp_f  |        0 (       0)  38.00us (666.67ns)        57\n",
      "       nlp_g  |        0 (       0) 136.00us (  2.57us)        53\n",
      "  nlp_grad_f  |        0 (       0)  53.00us (946.43ns)        56\n",
      "  nlp_hess_l  |        0 (       0) 264.00us (  7.14us)        37\n",
      "   nlp_jac_g  |        0 (       0) 180.00us (  3.67us)        49\n",
      "       total  |  46.00ms ( 46.00ms)  55.16ms ( 55.16ms)         1\n",
      "NLP0012I \n",
      "              Num      Status      Obj             It       time                 Location\n",
      "NLP0014I             1         OPT 40.354084        8 0.015\n",
      "NLP0012I \n",
      "              Num      Status      Obj             It       time                 Location\n",
      "NLP0014I             1         OPT 40.354252        6 0\n",
      "NLP0014I             2         OPT 40.354252        2 0\n",
      "NLP0012I \n",
      "              Num      Status      Obj             It       time                 Location\n",
      "NLP0014I             1         OPT 40.354252        0 0\n",
      "Cbc0012I Integer solution of 40.354252 found by DiveMIPFractional after 0 iterations and 0 nodes (0.00 seconds)\n",
      "NLP0014I             2         OPT 40.354252        6 0\n",
      "NLP0014I             3         OPT 40.386358        5 0\n",
      "Cbc0001I Search completed - best objective 40.35425191446355, took 0 iterations and 0 nodes (0.00 seconds)\n",
      "Cbc0032I Strong branching done 1 times (11 iterations), fathomed 1 nodes and fixed 0 variables\n",
      "Cbc0035I Maximum depth 0, 0 variables fixed on reduced cost\n",
      "      solver  :   t_proc      (avg)   t_wall      (avg)    n_eval\n",
      "       nlp_f  |        0 (       0)  31.00us (885.71ns)        35\n",
      "       nlp_g  |        0 (       0)  62.00us (  1.88us)        33\n",
      "  nlp_grad_f  |  15.00ms (333.33us)  70.00us (  1.56us)        45\n",
      "  nlp_hess_l  |        0 (       0) 185.00us (  6.85us)        27\n",
      "   nlp_jac_g  |        0 (       0) 117.00us (  3.00us)        39\n",
      "       total  |  15.00ms ( 15.00ms)  17.17ms ( 17.17ms)         1\n"
     ]
    },
    {
     "name": "stderr",
     "output_type": "stream",
     "text": [
      "CasADi - 2024-01-03 20:30:37 WARNING(\"solver:nlp_grad failed: NaN detected for output grad_gamma_p, at (row 0, col 0).\") [.../casadi/core/oracle_function.cpp:326]\n",
      "CasADi - 2024-01-03 20:30:37 WARNING(\"Failed to calculate multipliers\") [.../casadi/core/nlpsol.cpp:798]\n",
      "CasADi - 2024-01-03 20:30:37 WARNING(\"solver:nlp_grad failed: NaN detected for output grad_gamma_p, at (row 0, col 0).\") [.../casadi/core/oracle_function.cpp:326]\n",
      "CasADi - 2024-01-03 20:30:37 WARNING(\"Failed to calculate multipliers\") [.../casadi/core/nlpsol.cpp:798]\n",
      "C:\\Users\\live\\venv\\3_10\\lib\\site-packages\\dssex\\result.py:827: FutureWarning: The behavior of DataFrame concatenation with empty or all-NA entries is deprecated. In a future version, this will no longer exclude empty or all-NA columns when determining the result dtypes. To retain the old behavior, exclude the relevant entries before the concat operation.\n",
      "  branches = pd.concat([branch_res, bridgeterminal_res])\n",
      "C:\\Users\\live\\venv\\3_10\\lib\\site-packages\\dssex\\result.py:827: FutureWarning: The behavior of DataFrame concatenation with empty or all-NA entries is deprecated. In a future version, this will no longer exclude empty or all-NA columns when determining the result dtypes. To retain the old behavior, exclude the relevant entries before the concat operation.\n",
      "  branches = pd.concat([branch_res, bridgeterminal_res])\n",
      "C:\\Users\\live\\venv\\3_10\\lib\\site-packages\\dssex\\result.py:827: FutureWarning: The behavior of DataFrame concatenation with empty or all-NA entries is deprecated. In a future version, this will no longer exclude empty or all-NA columns when determining the result dtypes. To retain the old behavior, exclude the relevant entries before the concat operation.\n",
      "  branches = pd.concat([branch_res, bridgeterminal_res])\n"
     ]
    }
   ],
   "source": [
    "model00 = model_from_frames(frames00)\n",
    "step_params=[\n",
    "    # first step: minimize voltage violations\n",
    "    dict(objectives='U', constraints='U'),\n",
    "    # second step: minimize cost\n",
    "    dict(objectives='CL', constraints='U', floss=2)\n",
    "]\n",
    "\n",
    "results00 = dssex.estimate(model00, step_params)"
   ]
  },
  {
   "cell_type": "markdown",
   "id": "d0f3c72f-8734-40ca-8312-7c383a22ff5d",
   "metadata": {},
   "source": [
    "Results for two steps. \n",
    "\n",
    "- Initial power flow calculation\n",
    "- Optimization"
   ]
  },
  {
   "cell_type": "code",
   "execution_count": null,
   "id": "1fcff3f9-cae9-4941-95b2-412548196cf2",
   "metadata": {
    "editable": true,
    "scrolled": true,
    "slideshow": {
     "slide_type": ""
    },
    "tags": []
   },
   "outputs": [],
   "source": [
    "print_results(results00)"
   ]
  }
 ],
 "metadata": {
  "kernelspec": {
   "display_name": "Python 3 (ipykernel)",
   "language": "python",
   "name": "python3"
  },
  "language_info": {
   "codemirror_mode": {
    "name": "ipython",
    "version": 3
   },
   "file_extension": ".py",
   "mimetype": "text/x-python",
   "name": "python",
   "nbconvert_exporter": "python",
   "pygments_lexer": "ipython3",
   "version": "3.10.11"
  }
 },
 "nbformat": 4,
 "nbformat_minor": 5
}
