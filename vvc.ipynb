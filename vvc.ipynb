{
 "cells": [
  {
   "cell_type": "markdown",
   "id": "e22fe2f4-2024-463b-88d2-97f21dd95a56",
   "metadata": {},
   "source": [
    "For installation of **DSSEX** please follow [installation instructions](./readme.ipynb#Install-DSSEX) or run the next cell."
   ]
  },
  {
   "cell_type": "code",
   "execution_count": null,
   "id": "980659af-bf93-4fb3-9202-feec329cf238",
   "metadata": {},
   "outputs": [],
   "source": [
    "# in case you want to install dssex in the environment of Jupyter e.g. Google Colab\n",
    "%pip install -q dssex"
   ]
  },
  {
   "cell_type": "code",
   "execution_count": null,
   "id": "4524d3b2-1358-495f-8b06-6ca44236fe5c",
   "metadata": {
    "editable": true,
    "slideshow": {
     "slide_type": ""
    },
    "tags": []
   },
   "outputs": [],
   "source": [
    "import dssex\n",
    "from egrid import create_objects, make_data_frames, check_frames, model_from_frames\n",
    "import pandas as pd\n",
    "pd.set_option('display.max_colwidth', None)\n",
    "\n",
    "def print_frames(frames):\n",
    "    \"\"\"Prints pandas.DataFrame instances stored in a dict\"\"\"\n",
    "    messages = frames.get('Message')\n",
    "    if messages is not None:\n",
    "        is_error = 1 < messages.level\n",
    "        errors = messages.loc[is_error].message\n",
    "        if not errors.empty:\n",
    "            print('Errors\\n')\n",
    "            for _, error in errors.items():\n",
    "                print()\n",
    "                print(error)\n",
    "            print()\n",
    "    for key,df in frames.items():\n",
    "        print()\n",
    "        print(key)\n",
    "        display(df)\n",
    "        \n",
    "def print_results(res):\n",
    "    \"\"\"Prints values returned from function dssex.estimate\"\"\"\n",
    "    messages, vals = res\n",
    "    if not messages.empty:\n",
    "        print('\\n\\n')\n",
    "        print('Messages')\n",
    "        display(messages)\n",
    "    last_index = len(vals) - 2\n",
    "    for idx, df in enumerate(vals, -1):\n",
    "        print('\\n\\n')\n",
    "        print(f'{\"RESULT >> \" if idx==last_index else \"\"}Optimization Step: {idx}')\n",
    "        for name in ['nodes', 'branches', 'injections']:\n",
    "            print()\n",
    "            print(name.title())\n",
    "            display(df[name])    "
   ]
  },
  {
   "cell_type": "markdown",
   "id": "275b1f72-2ab7-4bd7-9791-ce4dfd28e41b",
   "metadata": {},
   "source": [
    "# Volt-Var-Control"
   ]
  },
  {
   "cell_type": "code",
   "execution_count": null,
   "id": "57c37a07-07eb-44c8-984a-79a23411da6e",
   "metadata": {
    "scrolled": true
   },
   "outputs": [],
   "source": [
    "schema00 = \"\"\"\n",
    "slack +-----------transformer-----------+ n +-----------> heating\n",
    "      Tlink=tap    y_lo=1e3-1e3j          |                P10=200\n",
    "                   y_tr=1e-6+1e-6j        |\n",
    "                                          | \n",
    "                                          | \n",
    "                         cap ||---------+ n +-------((~)) motor\n",
    "                          Q10=-10                          P10=160\n",
    "                          Exp_v_q=2                        Q10=10\n",
    "\n",
    "#.\n",
    "Deft(id=tap type=var min=-16 max=16 value=0 is_discrete=True cost=.03)\n",
    "Defk(id=kcap type=var min=0 max=5 value=0 is_discrete=True cost=.05)\n",
    "Klink(id_of_injection=cap id_of_factor=kcap part=q)\n",
    "Vlimit(min=.95)\n",
    "\"\"\"\n",
    "frames00 = make_data_frames(create_objects(schema00))\n",
    "print_frames(frames00)"
   ]
  },
  {
   "cell_type": "code",
   "execution_count": null,
   "id": "c9821e3a-53b0-4fff-b6c8-af920d6def6d",
   "metadata": {},
   "outputs": [],
   "source": [
    "pd.DataFrame.from_records(check_frames(frames00), columns=['message','level'])"
   ]
  },
  {
   "cell_type": "markdown",
   "id": "5a03762c-bd7a-40dc-a783-8b23fbbe9e35",
   "metadata": {},
   "source": [
    "[step_params](./help_params.ipynb)"
   ]
  },
  {
   "cell_type": "code",
   "execution_count": null,
   "id": "ec3e9055-80fb-49d7-83b5-b8877f81a3ab",
   "metadata": {
    "editable": true,
    "scrolled": true,
    "slideshow": {
     "slide_type": ""
    },
    "tags": []
   },
   "outputs": [],
   "source": [
    "model00 = model_from_frames(frames00)\n",
    "step_params=[\n",
    "    # first step: minimize voltage violations\n",
    "    dict(objectives='U', constraints='U'),\n",
    "    # second step: minimize cost\n",
    "    dict(objectives='CL', constraints='U', floss=2)\n",
    "]\n",
    "\n",
    "results00 = dssex.estimate(model00, step_params)"
   ]
  },
  {
   "cell_type": "markdown",
   "id": "d0f3c72f-8734-40ca-8312-7c383a22ff5d",
   "metadata": {},
   "source": [
    "Results for two steps. \n",
    "\n",
    "- Initial power flow calculation\n",
    "- Optimization"
   ]
  },
  {
   "cell_type": "code",
   "execution_count": null,
   "id": "1fcff3f9-cae9-4941-95b2-412548196cf2",
   "metadata": {
    "editable": true,
    "scrolled": true,
    "slideshow": {
     "slide_type": ""
    },
    "tags": []
   },
   "outputs": [],
   "source": [
    "print_results(results00)"
   ]
  }
 ],
 "metadata": {
  "kernelspec": {
   "display_name": "Python 3 (ipykernel)",
   "language": "python",
   "name": "python3"
  },
  "language_info": {
   "codemirror_mode": {
    "name": "ipython",
    "version": 3
   },
   "file_extension": ".py",
   "mimetype": "text/x-python",
   "name": "python",
   "nbconvert_exporter": "python",
   "pygments_lexer": "ipython3",
   "version": "3.10.11"
  }
 },
 "nbformat": 4,
 "nbformat_minor": 5
}
