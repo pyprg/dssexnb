{
 "cells": [
  {
   "cell_type": "markdown",
   "id": "ada0f1f8-e3ae-4c52-a61c-b2c256821f91",
   "metadata": {},
   "source": [
    "# Installation\n",
    "## General\n",
    "This folder holds **Jupyter Notebooks** demonstrating features of DSSEX (https://github.com/pyprg/dssex) &mdash; experimental parts of a **D**istribution&nbsp;**S**ystem&nbsp;**S**tate&nbsp;**E**stimator (DSSE).\n",
    "\n",
    "Installations of Python, Jupyter and DSSEX are required in order to use these **Jupyter&nbsp;Notebooks**.\n",
    "## Python\n",
    "- download **Python** from https://www.python.org/downloads/\n",
    "- install it according to instructions\n",
    "## Create a Virtual Environment\n",
    "1. on **Windows** open a cmd-shell in a folder where you want to place a virtual environment\n",
    "1. in order to create a virtual environment named **dsseenv**, run command\n",
    ">```py -m venv dsseenv```\n",
    "1. activate the virtual environment with command\n",
    ">```dsseenv\\Scripts\\activate``` \n",
    "1. install jupyter (https://jupyter.org/) run\n",
    ">```pip install jupyter```\n",
    "## Install DSSEX\n",
    "In the activated virtual environment **dsseenv** from previous paragraph (item 3.) issue command:\n",
    ">```pip install dssex```\n",
    "# Run **Jupyter Lab**\n",
    "In the activated virtual environment **dsseenv** paragraph **Create a Virtual Environment** (item 3.) issue command:\n",
    ">```jupyter lab```\n",
    "\n",
    "When successful, the command will finally open a browser with **Jupyter Lab** Web-UI.\n",
    "\n",
    "Use the file browser (Ctrl+Shift+F) of Jupyter Lab for navigation to e.g. dssexnb/powerflow.ipynb and open it."
   ]
  }
 ],
 "metadata": {
  "kernelspec": {
   "display_name": "Python 3 (ipykernel)",
   "language": "python",
   "name": "python3"
  },
  "language_info": {
   "codemirror_mode": {
    "name": "ipython",
    "version": 3
   },
   "file_extension": ".py",
   "mimetype": "text/x-python",
   "name": "python",
   "nbconvert_exporter": "python",
   "pygments_lexer": "ipython3",
   "version": "3.10.11"
  }
 },
 "nbformat": 4,
 "nbformat_minor": 5
}
