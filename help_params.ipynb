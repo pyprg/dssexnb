{
 "cells": [
  {
   "cell_type": "markdown",
   "id": "2c981f6c-f41c-4415-a2f5-e4c4d34b7ece",
   "metadata": {},
   "source": [
    "# step_params\n",
    "\n",
    "Example:\n",
    "\n",
    "```\n",
    "step_params = [dict(objectives='PQ'), dict(objectives='V', constraints='PQ')]\n",
    "```\n",
    "\n",
    "**step_params** is a list of dictionaries (dict), all entries are optional, processed key-value-pairs are:\n",
    "\n",
    "- 'objectives': str, objectives\n",
    "- 'constraints': str, constraints\n",
    "- 'floss': float, factor for losses\n",
    "\n",
    "If step_params is empty the function calculates power flow only.\n",
    "Each dict triggers an optimization step.\n",
    "\n",
    "Value for keys **objectives** is a string made of characters:\n",
    "\n",
    "- 'P' for active power\n",
    "- 'Q' for reactive power\n",
    "- 'I' for electric current\n",
    "- 'V' for voltage\n",
    "- 'U' for voltage violation\n",
    "- 'L' for losses of branches\n",
    "- 'C' for cost\n",
    "- 'T' of model.terms\n",
    "\n",
    "Value for keys **constraints** is a string made of characters:\n",
    "\n",
    "- 'P' keeping the initial values of active power at the location of given active power values during this step\n",
    "- 'Q' keeping the initial values of reactive power at the location of given reactive power values during this step\n",
    "- 'I' keeping the initial values of electric current at the location of given current values during this step\n",
    "- 'V' keeping the initial values of voltages at the location of given voltage values during this step\n",
    "- 'U' considering voltage limits"
   ]
  }
 ],
 "metadata": {
  "kernelspec": {
   "display_name": "Python 3 (ipykernel)",
   "language": "python",
   "name": "python3"
  },
  "language_info": {
   "codemirror_mode": {
    "name": "ipython",
    "version": 3
   },
   "file_extension": ".py",
   "mimetype": "text/x-python",
   "name": "python",
   "nbconvert_exporter": "python",
   "pygments_lexer": "ipython3",
   "version": "3.10.11"
  }
 },
 "nbformat": 4,
 "nbformat_minor": 5
}
